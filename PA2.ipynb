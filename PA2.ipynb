{
 "cells": [
  {
   "cell_type": "markdown",
   "id": "cfe39500",
   "metadata": {},
   "source": [
    "## Brandy Denning\n",
    "CS 150-PA2\n",
    "Computer Programming for Liberal Studies\n",
    "Fall 2023"
   ]
  },
  {
   "cell_type": "markdown",
   "id": "9410fafa",
   "metadata": {},
   "source": [
    "### Task 1: Personal Information"
   ]
  },
  {
   "cell_type": "code",
   "execution_count": 24,
   "id": "c1b58e90",
   "metadata": {},
   "outputs": [
    {
     "name": "stdout",
     "output_type": "stream",
     "text": [
      "Brandy\n"
     ]
    }
   ],
   "source": [
    "x=\"Brandy\"\n",
    "print(x)"
   ]
  },
  {
   "cell_type": "code",
   "execution_count": 25,
   "id": "970cd252",
   "metadata": {},
   "outputs": [
    {
     "name": "stdout",
     "output_type": "stream",
     "text": [
      "38\n"
     ]
    }
   ],
   "source": [
    "y=\"38\"\n",
    "print(y)"
   ]
  },
  {
   "cell_type": "code",
   "execution_count": 26,
   "id": "c0083346",
   "metadata": {},
   "outputs": [
    {
     "name": "stdout",
     "output_type": "stream",
     "text": [
      "182.88\n"
     ]
    }
   ],
   "source": [
    "a=\"182.88\"\n",
    "print(a)"
   ]
  },
  {
   "cell_type": "code",
   "execution_count": 27,
   "id": "e02365b9",
   "metadata": {},
   "outputs": [
    {
     "name": "stdout",
     "output_type": "stream",
     "text": [
      "orange\n"
     ]
    }
   ],
   "source": [
    "b=\"orange\"\n",
    "print(b)"
   ]
  },
  {
   "cell_type": "code",
   "execution_count": 32,
   "id": "ef8fa6c9",
   "metadata": {},
   "outputs": [
    {
     "name": "stdout",
     "output_type": "stream",
     "text": [
      "My name is Brandy, I am 38 years old, I am 182.88 cm tall, and my favorite color is orange\n"
     ]
    }
   ],
   "source": [
    "message= \"My name is Brandy, I am 38 years old, I am 182.88 cm tall, and my favorite color is orange\"\n",
    "print(message)"
   ]
  },
  {
   "cell_type": "markdown",
   "id": "3b71a7a1",
   "metadata": {},
   "source": [
    "### Task 2: Temperature Conversion"
   ]
  },
  {
   "cell_type": "code",
   "execution_count": 35,
   "id": "9bf3ff9c",
   "metadata": {},
   "outputs": [
    {
     "name": "stdout",
     "output_type": "stream",
     "text": [
      "Celsius temp 32\n"
     ]
    }
   ],
   "source": [
    "c=\"Celsius temp 32\"\n",
    "print(c)"
   ]
  },
  {
   "cell_type": "code",
   "execution_count": 36,
   "id": "ff35335a",
   "metadata": {},
   "outputs": [
    {
     "name": "stdout",
     "output_type": "stream",
     "text": [
      "Fahrenheit temp 89.6\n"
     ]
    }
   ],
   "source": [
    "f=\"Fahrenheit temp 89.6\"\n",
    "print(f)"
   ]
  },
  {
   "cell_type": "code",
   "execution_count": 38,
   "id": "96fa4db2",
   "metadata": {},
   "outputs": [
    {
     "name": "stdout",
     "output_type": "stream",
     "text": [
      "The temperature is 32 degrees Celsius, which is 89.6 degrees Fahrenheit\n"
     ]
    }
   ],
   "source": [
    "message=\"The temperature is 32 degrees Celsius, which is 89.6 degrees Fahrenheit\"\n",
    "print(message)"
   ]
  },
  {
   "cell_type": "markdown",
   "id": "e056ae9c",
   "metadata": {},
   "source": [
    "### Task 3: Simple Calculator"
   ]
  },
  {
   "cell_type": "code",
   "execution_count": 39,
   "id": "45a594ff",
   "metadata": {},
   "outputs": [
    {
     "name": "stdout",
     "output_type": "stream",
     "text": [
      "17\n"
     ]
    }
   ],
   "source": [
    "x=5\n",
    "y=12\n",
    "print(x+y)"
   ]
  },
  {
   "cell_type": "code",
   "execution_count": 40,
   "id": "e1004505",
   "metadata": {},
   "outputs": [
    {
     "name": "stdout",
     "output_type": "stream",
     "text": [
      "20\n"
     ]
    }
   ],
   "source": [
    "a=25\n",
    "b=5\n",
    "print(a-b)"
   ]
  },
  {
   "cell_type": "code",
   "execution_count": 41,
   "id": "31b9b31e",
   "metadata": {},
   "outputs": [
    {
     "name": "stdout",
     "output_type": "stream",
     "text": [
      "54\n"
     ]
    }
   ],
   "source": [
    "z=9\n",
    "y=6\n",
    "print(9*6)"
   ]
  },
  {
   "cell_type": "code",
   "execution_count": 42,
   "id": "b41e7f15",
   "metadata": {},
   "outputs": [
    {
     "name": "stdout",
     "output_type": "stream",
     "text": [
      "5.0\n"
     ]
    }
   ],
   "source": [
    "e=15\n",
    "f=3\n",
    "print(15/3)"
   ]
  },
  {
   "cell_type": "markdown",
   "id": "3dad8cfe",
   "metadata": {},
   "source": [
    "### Task 4: String Manipulation"
   ]
  },
  {
   "cell_type": "code",
   "execution_count": 47,
   "id": "4ee18650",
   "metadata": {},
   "outputs": [
    {
     "name": "stdout",
     "output_type": "stream",
     "text": [
      "I Never lose. Either I Win or Learn. Nelson Mandela\n"
     ]
    }
   ],
   "source": [
    "message=\"I Never lose. Either I Win or Learn. Nelson Mandela\"\n",
    "print(message)"
   ]
  },
  {
   "cell_type": "code",
   "execution_count": 51,
   "id": "527e7adc",
   "metadata": {},
   "outputs": [
    {
     "data": {
      "text/plain": [
       "51"
      ]
     },
     "execution_count": 51,
     "metadata": {},
     "output_type": "execute_result"
    }
   ],
   "source": [
    "len(message)"
   ]
  },
  {
   "cell_type": "code",
   "execution_count": 48,
   "id": "e095be79",
   "metadata": {},
   "outputs": [
    {
     "name": "stdout",
     "output_type": "stream",
     "text": [
      "I NEVER LOSE. EITHER I WIN OR LEARN. NELSON MANDELA\n"
     ]
    }
   ],
   "source": [
    "message1=message.upper()\n",
    "print(message1)"
   ]
  },
  {
   "cell_type": "code",
   "execution_count": 49,
   "id": "23c84bdf",
   "metadata": {},
   "outputs": [
    {
     "data": {
      "text/plain": [
       "'i never lose. either i win or learn. nelson mandela'"
      ]
     },
     "execution_count": 49,
     "metadata": {},
     "output_type": "execute_result"
    }
   ],
   "source": [
    "message.lower()"
   ]
  },
  {
   "cell_type": "code",
   "execution_count": 58,
   "id": "c55fc34a",
   "metadata": {},
   "outputs": [
    {
     "data": {
      "text/plain": [
       "['I',\n",
       " 'Never',\n",
       " 'Lose.',\n",
       " 'Either',\n",
       " 'I',\n",
       " 'Win',\n",
       " 'Or',\n",
       " 'Learn.',\n",
       " 'Nelson',\n",
       " 'Mandela']"
      ]
     },
     "execution_count": 58,
     "metadata": {},
     "output_type": "execute_result"
    }
   ],
   "source": [
    "new_message.split(sep=\" \")"
   ]
  },
  {
   "cell_type": "markdown",
   "id": "a492c4a0",
   "metadata": {},
   "source": [
    "### Task 5: User Input and Integer Operations"
   ]
  }
 ],
 "metadata": {
  "kernelspec": {
   "display_name": "Python 3 (ipykernel)",
   "language": "python",
   "name": "python3"
  },
  "language_info": {
   "codemirror_mode": {
    "name": "ipython",
    "version": 3
   },
   "file_extension": ".py",
   "mimetype": "text/x-python",
   "name": "python",
   "nbconvert_exporter": "python",
   "pygments_lexer": "ipython3",
   "version": "3.11.5"
  }
 },
 "nbformat": 4,
 "nbformat_minor": 5
}
